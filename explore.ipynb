{
 "metadata": {
  "language_info": {
   "codemirror_mode": {
    "name": "ipython",
    "version": 3
   },
   "file_extension": ".py",
   "mimetype": "text/x-python",
   "name": "python",
   "nbconvert_exporter": "python",
   "pygments_lexer": "ipython3",
   "version": "3.7.9-final"
  },
  "orig_nbformat": 2,
  "kernelspec": {
   "name": "Python 3.7.9 64-bit ('tf-distribute-explorer': conda)",
   "display_name": "Python 3.7.9 64-bit ('tf-distribute-explorer': conda)",
   "metadata": {
    "interpreter": {
     "hash": "afdaff272ee734de13ec14596730737b445950b75053d72f1cd1ec9424d012d7"
    }
   }
  }
 },
 "nbformat": 4,
 "nbformat_minor": 2,
 "cells": [
  {
   "cell_type": "code",
   "execution_count": 1,
   "metadata": {},
   "outputs": [],
   "source": [
    "import numpy as np\n",
    "import tensorflow as tf\n",
    "\n",
    "for g in tf.config.list_physical_devices(\"GPU\"):\n",
    "    tf.config.experimental.set_memory_growth(g, True)"
   ]
  },
  {
   "cell_type": "code",
   "execution_count": 7,
   "metadata": {},
   "outputs": [
    {
     "output_type": "stream",
     "name": "stdout",
     "text": [
      "INFO:tensorflow:Using MirroredStrategy with devices ('/job:localhost/replica:0/task:0/device:GPU:0', '/job:localhost/replica:0/task:0/device:GPU:1', '/job:localhost/replica:0/task:0/device:GPU:2', '/job:localhost/replica:0/task:0/device:GPU:3')\n"
     ]
    }
   ],
   "source": [
    "from tensorflow.python.ops.resource_variable_ops import VariableSpec\n",
    "from tensorflow.python.distribute import values as value_lib\n",
    "\n",
    "shape = (3, 3)\n",
    "\n",
    "def create_value(ctx):\n",
    "    return tf.Variable(tf.random.normal(shape=shape))\n",
    "    # return tf.random.normal(shape=shape)\n",
    "\n",
    "def create_tensor(ctx):\n",
    "    return tf.random.normal(shape=shape)\n",
    "\n",
    "strategy = tf.distribute.MirroredStrategy()\n",
    "v = strategy.experimental_distribute_values_from_function(create_value)\n",
    "t = strategy.experimental_distribute_values_from_function(create_tensor)\n",
    "assert isinstance(v, value_lib.PerReplica)\n",
    "\n",
    "@tf.function(input_signature=[VariableSpec(shape=(3, 3), dtype=tf.float32, name='v')])\n",
    "def my_print(v):\n",
    "    tf.print(v)"
   ]
  },
  {
   "cell_type": "code",
   "execution_count": 8,
   "metadata": {},
   "outputs": [],
   "source": [
    "from tensorflow.python.distribute import distribute_utils"
   ]
  },
  {
   "cell_type": "code",
   "execution_count": 17,
   "metadata": {},
   "outputs": [
    {
     "output_type": "stream",
     "name": "stdout",
     "text": [
      "INFO:tensorflow:Using MirroredStrategy with devices ('/job:localhost/replica:0/task:0/device:GPU:0', '/job:localhost/replica:0/task:0/device:GPU:1', '/job:localhost/replica:0/task:0/device:GPU:2', '/job:localhost/replica:0/task:0/device:GPU:3')\n"
     ]
    }
   ],
   "source": [
    "s = tf.distribute.MirroredStrategy()"
   ]
  },
  {
   "cell_type": "code",
   "execution_count": 38,
   "metadata": {},
   "outputs": [],
   "source": [
    "def my_run(t):\n",
    "    ctx = tf.distribute.get_replica_context()\n",
    "    return ctx.merge_call(lambda ctx, v: tf.concat(v.values, axis=0), args=(t,)) + 0.000000001 * float(ctx.replica_id_in_sync_group)"
   ]
  },
  {
   "cell_type": "code",
   "execution_count": 39,
   "metadata": {},
   "outputs": [],
   "source": [
    "ret = s.run(my_run, args=(t,))"
   ]
  },
  {
   "cell_type": "code",
   "execution_count": 49,
   "metadata": {},
   "outputs": [
    {
     "output_type": "execute_result",
     "data": {
      "text/plain": [
       "[1, -1, 3]"
      ]
     },
     "metadata": {},
     "execution_count": 49
    }
   ],
   "source": [
    "[1, -1] + list(v.values[0].shape[:-1])"
   ]
  },
  {
   "cell_type": "code",
   "execution_count": null,
   "metadata": {},
   "outputs": [],
   "source": []
  }
 ]
}